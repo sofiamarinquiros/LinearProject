{
 "cells": [
  {
   "cell_type": "code",
   "execution_count": 10,
   "id": "a153c302",
   "metadata": {},
   "outputs": [],
   "source": [
    "from PIL import Image\n",
    "import cv2"
   ]
  },
  {
   "cell_type": "code",
   "execution_count": 11,
   "id": "1e9d69f3",
   "metadata": {},
   "outputs": [],
   "source": [
    "image = Image.open('Screenshot (201).png')"
   ]
  },
  {
   "cell_type": "code",
   "execution_count": 12,
   "id": "8131fe6a",
   "metadata": {},
   "outputs": [
    {
     "ename": "SystemError",
     "evalue": "tile cannot extend outside image",
     "output_type": "error",
     "traceback": [
      "\u001b[1;31m---------------------------------------------------------------------------\u001b[0m",
      "\u001b[1;31mAttributeError\u001b[0m                            Traceback (most recent call last)",
      "File \u001b[1;32mc:\\Python310\\lib\\site-packages\\PIL\\ImageFile.py:518\u001b[0m, in \u001b[0;36m_save\u001b[1;34m(im, fp, tile, bufsize)\u001b[0m\n\u001b[0;32m    517\u001b[0m \u001b[39mtry\u001b[39;00m:\n\u001b[1;32m--> 518\u001b[0m     fh \u001b[39m=\u001b[39m fp\u001b[39m.\u001b[39;49mfileno()\n\u001b[0;32m    519\u001b[0m     fp\u001b[39m.\u001b[39mflush()\n",
      "\u001b[1;31mAttributeError\u001b[0m: '_idat' object has no attribute 'fileno'",
      "\nDuring handling of the above exception, another exception occurred:\n",
      "\u001b[1;31mSystemError\u001b[0m                               Traceback (most recent call last)",
      "Cell \u001b[1;32mIn[12], line 9\u001b[0m\n\u001b[0;32m      7\u001b[0m         \u001b[39m#crop image square\u001b[39;00m\n\u001b[0;32m      8\u001b[0m image \u001b[39m=\u001b[39m image\u001b[39m.\u001b[39mcrop((left, top, right, bottom))\n\u001b[1;32m----> 9\u001b[0m image\u001b[39m.\u001b[39;49mshow()\n\u001b[0;32m     10\u001b[0m         \u001b[39m#size it down\u001b[39;00m\n\u001b[0;32m     11\u001b[0m image_tiny \u001b[39m=\u001b[39m image\u001b[39m.\u001b[39mresize((\u001b[39m200\u001b[39m,\u001b[39m200\u001b[39m))\n",
      "File \u001b[1;32mc:\\Python310\\lib\\site-packages\\PIL\\Image.py:2485\u001b[0m, in \u001b[0;36mImage.show\u001b[1;34m(self, title)\u001b[0m\n\u001b[0;32m   2465\u001b[0m \u001b[39mdef\u001b[39;00m \u001b[39mshow\u001b[39m(\u001b[39mself\u001b[39m, title\u001b[39m=\u001b[39m\u001b[39mNone\u001b[39;00m):\n\u001b[0;32m   2466\u001b[0m \u001b[39m    \u001b[39m\u001b[39m\"\"\"\u001b[39;00m\n\u001b[0;32m   2467\u001b[0m \u001b[39m    Displays this image. This method is mainly intended for debugging purposes.\u001b[39;00m\n\u001b[0;32m   2468\u001b[0m \n\u001b[1;32m   (...)\u001b[0m\n\u001b[0;32m   2482\u001b[0m \u001b[39m    :param title: Optional title to use for the image window, where possible.\u001b[39;00m\n\u001b[0;32m   2483\u001b[0m \u001b[39m    \"\"\"\u001b[39;00m\n\u001b[1;32m-> 2485\u001b[0m     _show(\u001b[39mself\u001b[39;49m, title\u001b[39m=\u001b[39;49mtitle)\n",
      "File \u001b[1;32mc:\\Python310\\lib\\site-packages\\PIL\\Image.py:3508\u001b[0m, in \u001b[0;36m_show\u001b[1;34m(image, **options)\u001b[0m\n\u001b[0;32m   3505\u001b[0m \u001b[39mdef\u001b[39;00m \u001b[39m_show\u001b[39m(image, \u001b[39m*\u001b[39m\u001b[39m*\u001b[39moptions):\n\u001b[0;32m   3506\u001b[0m     \u001b[39mfrom\u001b[39;00m \u001b[39m.\u001b[39;00m \u001b[39mimport\u001b[39;00m ImageShow\n\u001b[1;32m-> 3508\u001b[0m     ImageShow\u001b[39m.\u001b[39mshow(image, \u001b[39m*\u001b[39m\u001b[39m*\u001b[39moptions)\n",
      "File \u001b[1;32mc:\\Python310\\lib\\site-packages\\PIL\\ImageShow.py:62\u001b[0m, in \u001b[0;36mshow\u001b[1;34m(image, title, **options)\u001b[0m\n\u001b[0;32m     53\u001b[0m \u001b[39m\u001b[39m\u001b[39mr\u001b[39m\u001b[39m\"\"\"\u001b[39;00m\n\u001b[0;32m     54\u001b[0m \u001b[39mDisplay a given image.\u001b[39;00m\n\u001b[0;32m     55\u001b[0m \n\u001b[1;32m   (...)\u001b[0m\n\u001b[0;32m     59\u001b[0m \u001b[39m:returns: ``True`` if a suitable viewer was found, ``False`` otherwise.\u001b[39;00m\n\u001b[0;32m     60\u001b[0m \u001b[39m\"\"\"\u001b[39;00m\n\u001b[0;32m     61\u001b[0m \u001b[39mfor\u001b[39;00m viewer \u001b[39min\u001b[39;00m _viewers:\n\u001b[1;32m---> 62\u001b[0m     \u001b[39mif\u001b[39;00m viewer\u001b[39m.\u001b[39mshow(image, title\u001b[39m=\u001b[39mtitle, \u001b[39m*\u001b[39m\u001b[39m*\u001b[39moptions):\n\u001b[0;32m     63\u001b[0m         \u001b[39mreturn\u001b[39;00m \u001b[39mTrue\u001b[39;00m\n\u001b[0;32m     64\u001b[0m \u001b[39mreturn\u001b[39;00m \u001b[39mFalse\u001b[39;00m\n",
      "File \u001b[1;32mc:\\Python310\\lib\\site-packages\\PIL\\ImageShow.py:86\u001b[0m, in \u001b[0;36mViewer.show\u001b[1;34m(self, image, **options)\u001b[0m\n\u001b[0;32m     83\u001b[0m     \u001b[39mif\u001b[39;00m image\u001b[39m.\u001b[39mmode \u001b[39m!=\u001b[39m base:\n\u001b[0;32m     84\u001b[0m         image \u001b[39m=\u001b[39m image\u001b[39m.\u001b[39mconvert(base)\n\u001b[1;32m---> 86\u001b[0m \u001b[39mreturn\u001b[39;00m \u001b[39mself\u001b[39m\u001b[39m.\u001b[39mshow_image(image, \u001b[39m*\u001b[39m\u001b[39m*\u001b[39moptions)\n",
      "File \u001b[1;32mc:\\Python310\\lib\\site-packages\\PIL\\ImageShow.py:112\u001b[0m, in \u001b[0;36mViewer.show_image\u001b[1;34m(self, image, **options)\u001b[0m\n\u001b[0;32m    110\u001b[0m \u001b[39mdef\u001b[39;00m \u001b[39mshow_image\u001b[39m(\u001b[39mself\u001b[39m, image, \u001b[39m*\u001b[39m\u001b[39m*\u001b[39moptions):\n\u001b[0;32m    111\u001b[0m \u001b[39m    \u001b[39m\u001b[39m\"\"\"Display the given image.\"\"\"\u001b[39;00m\n\u001b[1;32m--> 112\u001b[0m     \u001b[39mreturn\u001b[39;00m \u001b[39mself\u001b[39m\u001b[39m.\u001b[39mshow_file(\u001b[39mself\u001b[39;49m\u001b[39m.\u001b[39;49msave_image(image), \u001b[39m*\u001b[39m\u001b[39m*\u001b[39moptions)\n",
      "File \u001b[1;32mc:\\Python310\\lib\\site-packages\\PIL\\ImageShow.py:108\u001b[0m, in \u001b[0;36mViewer.save_image\u001b[1;34m(self, image)\u001b[0m\n\u001b[0;32m    106\u001b[0m \u001b[39mdef\u001b[39;00m \u001b[39msave_image\u001b[39m(\u001b[39mself\u001b[39m, image):\n\u001b[0;32m    107\u001b[0m \u001b[39m    \u001b[39m\u001b[39m\"\"\"Save to temporary file and return filename.\"\"\"\u001b[39;00m\n\u001b[1;32m--> 108\u001b[0m     \u001b[39mreturn\u001b[39;00m image\u001b[39m.\u001b[39m_dump(\u001b[39mformat\u001b[39m\u001b[39m=\u001b[39m\u001b[39mself\u001b[39m\u001b[39m.\u001b[39mget_format(image), \u001b[39m*\u001b[39m\u001b[39m*\u001b[39m\u001b[39mself\u001b[39m\u001b[39m.\u001b[39moptions)\n",
      "File \u001b[1;32mc:\\Python310\\lib\\site-packages\\PIL\\Image.py:633\u001b[0m, in \u001b[0;36mImage._dump\u001b[1;34m(self, file, format, **options)\u001b[0m\n\u001b[0;32m    631\u001b[0m     \u001b[39mself\u001b[39m\u001b[39m.\u001b[39mim\u001b[39m.\u001b[39msave_ppm(filename)\n\u001b[0;32m    632\u001b[0m \u001b[39melse\u001b[39;00m:\n\u001b[1;32m--> 633\u001b[0m     \u001b[39mself\u001b[39m\u001b[39m.\u001b[39msave(filename, \u001b[39mformat\u001b[39m, \u001b[39m*\u001b[39m\u001b[39m*\u001b[39moptions)\n\u001b[0;32m    635\u001b[0m \u001b[39mreturn\u001b[39;00m filename\n",
      "File \u001b[1;32mc:\\Python310\\lib\\site-packages\\PIL\\Image.py:2431\u001b[0m, in \u001b[0;36mImage.save\u001b[1;34m(self, fp, format, **params)\u001b[0m\n\u001b[0;32m   2428\u001b[0m         fp \u001b[39m=\u001b[39m builtins\u001b[39m.\u001b[39mopen(filename, \u001b[39m\"\u001b[39m\u001b[39mw+b\u001b[39m\u001b[39m\"\u001b[39m)\n\u001b[0;32m   2430\u001b[0m \u001b[39mtry\u001b[39;00m:\n\u001b[1;32m-> 2431\u001b[0m     save_handler(\u001b[39mself\u001b[39;49m, fp, filename)\n\u001b[0;32m   2432\u001b[0m \u001b[39mexcept\u001b[39;00m \u001b[39mException\u001b[39;00m:\n\u001b[0;32m   2433\u001b[0m     \u001b[39mif\u001b[39;00m open_fp:\n",
      "File \u001b[1;32mc:\\Python310\\lib\\site-packages\\PIL\\PngImagePlugin.py:1239\u001b[0m, in \u001b[0;36m_save_all\u001b[1;34m(im, fp, filename)\u001b[0m\n\u001b[0;32m   1238\u001b[0m \u001b[39mdef\u001b[39;00m \u001b[39m_save_all\u001b[39m(im, fp, filename):\n\u001b[1;32m-> 1239\u001b[0m     _save(im, fp, filename, save_all\u001b[39m=\u001b[39;49m\u001b[39mTrue\u001b[39;49;00m)\n",
      "File \u001b[1;32mc:\\Python310\\lib\\site-packages\\PIL\\PngImagePlugin.py:1418\u001b[0m, in \u001b[0;36m_save\u001b[1;34m(im, fp, filename, chunk, save_all)\u001b[0m\n\u001b[0;32m   1415\u001b[0m     chunk(fp, \u001b[39mb\u001b[39m\u001b[39m\"\u001b[39m\u001b[39meXIf\u001b[39m\u001b[39m\"\u001b[39m, exif)\n\u001b[0;32m   1417\u001b[0m \u001b[39mif\u001b[39;00m save_all:\n\u001b[1;32m-> 1418\u001b[0m     _write_multiple_frames(im, fp, chunk, rawmode, default_image, append_images)\n\u001b[0;32m   1419\u001b[0m \u001b[39melse\u001b[39;00m:\n\u001b[0;32m   1420\u001b[0m     ImageFile\u001b[39m.\u001b[39m_save(im, _idat(fp, chunk), [(\u001b[39m\"\u001b[39m\u001b[39mzip\u001b[39m\u001b[39m\"\u001b[39m, (\u001b[39m0\u001b[39m, \u001b[39m0\u001b[39m) \u001b[39m+\u001b[39m im\u001b[39m.\u001b[39msize, \u001b[39m0\u001b[39m, rawmode)])\n",
      "File \u001b[1;32mc:\\Python310\\lib\\site-packages\\PIL\\PngImagePlugin.py:1223\u001b[0m, in \u001b[0;36m_write_multiple_frames\u001b[1;34m(im, fp, chunk, rawmode, default_image, append_images)\u001b[0m\n\u001b[0;32m   1220\u001b[0m \u001b[39m# frame data\u001b[39;00m\n\u001b[0;32m   1221\u001b[0m \u001b[39mif\u001b[39;00m frame \u001b[39m==\u001b[39m \u001b[39m0\u001b[39m \u001b[39mand\u001b[39;00m \u001b[39mnot\u001b[39;00m default_image:\n\u001b[0;32m   1222\u001b[0m     \u001b[39m# first frame must be in IDAT chunks for backwards compatibility\u001b[39;00m\n\u001b[1;32m-> 1223\u001b[0m     ImageFile\u001b[39m.\u001b[39;49m_save(\n\u001b[0;32m   1224\u001b[0m         im_frame,\n\u001b[0;32m   1225\u001b[0m         _idat(fp, chunk),\n\u001b[0;32m   1226\u001b[0m         [(\u001b[39m\"\u001b[39;49m\u001b[39mzip\u001b[39;49m\u001b[39m\"\u001b[39;49m, (\u001b[39m0\u001b[39;49m, \u001b[39m0\u001b[39;49m) \u001b[39m+\u001b[39;49m im_frame\u001b[39m.\u001b[39;49msize, \u001b[39m0\u001b[39;49m, rawmode)],\n\u001b[0;32m   1227\u001b[0m     )\n\u001b[0;32m   1228\u001b[0m \u001b[39melse\u001b[39;00m:\n\u001b[0;32m   1229\u001b[0m     fdat_chunks \u001b[39m=\u001b[39m _fdat(fp, chunk, seq_num)\n",
      "File \u001b[1;32mc:\\Python310\\lib\\site-packages\\PIL\\ImageFile.py:522\u001b[0m, in \u001b[0;36m_save\u001b[1;34m(im, fp, tile, bufsize)\u001b[0m\n\u001b[0;32m    520\u001b[0m     _encode_tile(im, fp, tile, bufsize, fh)\n\u001b[0;32m    521\u001b[0m \u001b[39mexcept\u001b[39;00m (\u001b[39mAttributeError\u001b[39;00m, io\u001b[39m.\u001b[39mUnsupportedOperation) \u001b[39mas\u001b[39;00m exc:\n\u001b[1;32m--> 522\u001b[0m     _encode_tile(im, fp, tile, bufsize, \u001b[39mNone\u001b[39;49;00m, exc)\n\u001b[0;32m    523\u001b[0m \u001b[39mif\u001b[39;00m \u001b[39mhasattr\u001b[39m(fp, \u001b[39m\"\u001b[39m\u001b[39mflush\u001b[39m\u001b[39m\"\u001b[39m):\n\u001b[0;32m    524\u001b[0m     fp\u001b[39m.\u001b[39mflush()\n",
      "File \u001b[1;32mc:\\Python310\\lib\\site-packages\\PIL\\ImageFile.py:533\u001b[0m, in \u001b[0;36m_encode_tile\u001b[1;34m(im, fp, tile, bufsize, fh, exc)\u001b[0m\n\u001b[0;32m    531\u001b[0m encoder \u001b[39m=\u001b[39m Image\u001b[39m.\u001b[39m_getencoder(im\u001b[39m.\u001b[39mmode, e, a, im\u001b[39m.\u001b[39mencoderconfig)\n\u001b[0;32m    532\u001b[0m \u001b[39mtry\u001b[39;00m:\n\u001b[1;32m--> 533\u001b[0m     encoder\u001b[39m.\u001b[39;49msetimage(im\u001b[39m.\u001b[39;49mim, b)\n\u001b[0;32m    534\u001b[0m     \u001b[39mif\u001b[39;00m encoder\u001b[39m.\u001b[39mpushes_fd:\n\u001b[0;32m    535\u001b[0m         encoder\u001b[39m.\u001b[39msetfd(fp)\n",
      "\u001b[1;31mSystemError\u001b[0m: tile cannot extend outside image"
     ]
    }
   ],
   "source": [
    "\n",
    "\n",
    "width, height = image.size\n",
    "\n",
    "left = height / 5\n",
    "top = height / 5\n",
    "right = height / 5\n",
    "bottom = height / 5\n",
    "        #crop image square\n",
    "im = image.crop((left, top, right, bottom))\n",
    "im.show()\n",
    "        #size it down\n",
    "image_tiny = image.resize((200,200))\n",
    "image_tiny.show()\n",
    "        ##Greyscale the image\n",
    "greyScale = cv2.cvtColor(image_tiny, cv2.COLOR_RGB2GRAY)\n",
    "greyScale.show()"
   ]
  },
  {
   "cell_type": "code",
   "execution_count": 8,
   "id": "fe6198d2",
   "metadata": {},
   "outputs": [],
   "source": [
    "pixelated = image_tiny.resize(image.size,Image.NEAREST) "
   ]
  },
  {
   "cell_type": "code",
   "execution_count": 9,
   "id": "c05d9062",
   "metadata": {},
   "outputs": [],
   "source": [
    "image_tiny.show()\n",
    "pixelated.show()\n",
    "width, height = im.size"
   ]
  },
  {
   "cell_type": "code",
   "execution_count": 6,
   "id": "c027c4bb",
   "metadata": {},
   "outputs": [
    {
     "ename": "SyntaxError",
     "evalue": "invalid syntax (1235331270.py, line 1)",
     "output_type": "error",
     "traceback": [
      "\u001b[1;36m  Cell \u001b[1;32mIn[6], line 1\u001b[1;36m\u001b[0m\n\u001b[1;33m    for\u001b[0m\n\u001b[1;37m        ^\u001b[0m\n\u001b[1;31mSyntaxError\u001b[0m\u001b[1;31m:\u001b[0m invalid syntax\n"
     ]
    }
   ],
   "source": [
    "left = 155\n",
    "top = 65\n",
    "right = 360\n",
    "bottom = 270\n",
    " \n",
    "# Cropped image of above dimension\n",
    "# (It will not change original image)\n",
    "im1 = im.crop((left, top, right, bottom))"
   ]
  },
  {
   "cell_type": "markdown",
   "id": "957632bc",
   "metadata": {},
   "source": []
  }
 ],
 "metadata": {
  "kernelspec": {
   "display_name": "Python 3 (ipykernel)",
   "language": "python",
   "name": "python3"
  },
  "language_info": {
   "codemirror_mode": {
    "name": "ipython",
    "version": 3
   },
   "file_extension": ".py",
   "mimetype": "text/x-python",
   "name": "python",
   "nbconvert_exporter": "python",
   "pygments_lexer": "ipython3",
   "version": "3.10.5"
  }
 },
 "nbformat": 4,
 "nbformat_minor": 5
}
