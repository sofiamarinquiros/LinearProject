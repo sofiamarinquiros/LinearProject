{
 "cells": [
  {
   "cell_type": "code",
   "execution_count": 1,
   "id": "a153c302",
   "metadata": {},
   "outputs": [],
   "source": [
    "from PIL import Image"
   ]
  },
  {
   "cell_type": "code",
   "execution_count": 2,
   "id": "1e9d69f3",
   "metadata": {},
   "outputs": [],
   "source": [
    "image = Image.open('IMG_5031.JPG')"
   ]
  },
  {
   "cell_type": "code",
   "execution_count": 22,
   "id": "8131fe6a",
   "metadata": {},
   "outputs": [],
   "source": [
    "image_tiny = image.resize((200,200))"
   ]
  },
  {
   "cell_type": "code",
   "execution_count": 23,
   "id": "fe6198d2",
   "metadata": {},
   "outputs": [],
   "source": [
    "pixelated = image_tiny.resize(image.size,Image.NEAREST) "
   ]
  },
  {
   "cell_type": "code",
   "execution_count": 24,
   "id": "c05d9062",
   "metadata": {},
   "outputs": [],
   "source": [
    "pixelated.show()"
   ]
  },
  {
   "cell_type": "code",
   "execution_count": null,
   "id": "c027c4bb",
   "metadata": {},
   "outputs": [],
   "source": [
    "for "
   ]
  }
 ],
 "metadata": {
  "kernelspec": {
   "display_name": "Python 3 (ipykernel)",
   "language": "python",
   "name": "python3"
  },
  "language_info": {
   "codemirror_mode": {
    "name": "ipython",
    "version": 3
   },
   "file_extension": ".py",
   "mimetype": "text/x-python",
   "name": "python",
   "nbconvert_exporter": "python",
   "pygments_lexer": "ipython3",
   "version": "3.10.9"
  }
 },
 "nbformat": 4,
 "nbformat_minor": 5
}
